{
 "cells": [
  {
   "cell_type": "code",
   "execution_count": 1,
   "id": "afe1f59f",
   "metadata": {},
   "outputs": [
    {
     "name": "stderr",
     "output_type": "stream",
     "text": [
      "fatal: destination path 'gym-bandits' already exists and is not an empty directory.\n"
     ]
    }
   ],
   "source": [
    "!git clone https://github.com/JKCooper2/gym-bandits.git"
   ]
  },
  {
   "cell_type": "code",
   "execution_count": 2,
   "id": "380aad81",
   "metadata": {},
   "outputs": [
    {
     "name": "stdout",
     "output_type": "stream",
     "text": [
      "C:\\Users\\KUMUTHA\\RLLAB\\gym-bandits\n"
     ]
    }
   ],
   "source": [
    "cd gym-bandits"
   ]
  },
  {
   "cell_type": "code",
   "execution_count": 4,
   "id": "b47fba15",
   "metadata": {},
   "outputs": [
    {
     "name": "stdout",
     "output_type": "stream",
     "text": [
      "Obtaining file:///C:/Users/KUMUTHA/RLLAB/gym-bandits\n",
      "  Preparing metadata (setup.py): started\n",
      "  Preparing metadata (setup.py): finished with status 'done'\n",
      "Requirement already satisfied: gym in c:\\users\\kumutha\\anaconda3\\lib\\site-packages (from gym-bandits==0.0.2) (0.26.2)\n",
      "Requirement already satisfied: numpy>=1.18.0 in c:\\users\\kumutha\\anaconda3\\lib\\site-packages (from gym->gym-bandits==0.0.2) (1.23.5)\n",
      "Requirement already satisfied: gym-notices>=0.0.4 in c:\\users\\kumutha\\anaconda3\\lib\\site-packages (from gym->gym-bandits==0.0.2) (0.0.8)\n",
      "Requirement already satisfied: cloudpickle>=1.2.0 in c:\\users\\kumutha\\anaconda3\\lib\\site-packages (from gym->gym-bandits==0.0.2) (2.0.0)\n",
      "Installing collected packages: gym-bandits\n",
      "  Running setup.py develop for gym-bandits\n",
      "Successfully installed gym-bandits-0.0.2\n",
      "Note: you may need to restart the kernel to use updated packages.\n"
     ]
    }
   ],
   "source": [
    "pip install -e ."
   ]
  },
  {
   "cell_type": "code",
   "execution_count": 9,
   "id": "56509803",
   "metadata": {},
   "outputs": [],
   "source": [
    "import gym_bandits\n",
    "import gym\n",
    "import numpy as np"
   ]
  },
  {
   "cell_type": "code",
   "execution_count": 18,
   "id": "24f2574b",
   "metadata": {},
   "outputs": [],
   "source": [
    "env=gym.make(\"BanditTenArmedGaussian-v0\")"
   ]
  },
  {
   "cell_type": "code",
   "execution_count": 19,
   "id": "6dfc5406",
   "metadata": {},
   "outputs": [
    {
     "data": {
      "text/plain": [
       "Discrete(10)"
      ]
     },
     "execution_count": 19,
     "metadata": {},
     "output_type": "execute_result"
    }
   ],
   "source": [
    "env.action_space"
   ]
  },
  {
   "cell_type": "code",
   "execution_count": 26,
   "id": "511c6a3f",
   "metadata": {},
   "outputs": [],
   "source": [
    "num_rounds = 20000\n",
    "count = np.zeros(10)\n",
    "sum_reward = np.zeros(10)\n",
    "Q=np.zeros(10)"
   ]
  },
  {
   "cell_type": "code",
   "execution_count": 27,
   "id": "0d09bf3d",
   "metadata": {},
   "outputs": [],
   "source": [
    "def epsilon_greedy(epsilon):\n",
    "    rand = np.random.random()\n",
    "    if rand < epsilon:\n",
    "        action = env.action_space.sample()\n",
    "    else:\n",
    "        action = np.argmax(q)\n",
    "    return action"
   ]
  },
  {
   "cell_type": "code",
   "execution_count": 28,
   "id": "9fbd8210",
   "metadata": {},
   "outputs": [
    {
     "data": {
      "text/plain": [
       "0"
      ]
     },
     "execution_count": 28,
     "metadata": {},
     "output_type": "execute_result"
    }
   ],
   "source": [
    "env.reset()"
   ]
  },
  {
   "cell_type": "code",
   "execution_count": 29,
   "id": "884cdaad",
   "metadata": {},
   "outputs": [
    {
     "name": "stdout",
     "output_type": "stream",
     "text": [
      "The optimal arm is 7\n"
     ]
    }
   ],
   "source": [
    "for i in range(num_rounds):\n",
    "     # Select the arm using epsilon greedy\n",
    "     arm = epsilon_greedy(0.5)\n",
    "     # Get the reward\n",
    "     env.reset()\n",
    "     observation, reward, done, info = env.step(arm)\n",
    "     # update the count of that arm\n",
    "     count[arm] += 1\n",
    "     # Sum the rewards obtained from the arm\n",
    "     sum_reward[arm]+=reward\n",
    "     # calculate Q value which is the average rewards of the arm\n",
    "     Q[arm] = sum_reward[arm]/count[arm]\n",
    "print( 'The optimal arm is {}'.format(np.argmax(Q)))"
   ]
  },
  {
   "cell_type": "code",
   "execution_count": null,
   "id": "b63bcc4c",
   "metadata": {},
   "outputs": [],
   "source": []
  }
 ],
 "metadata": {
  "kernelspec": {
   "display_name": "Python 3 (ipykernel)",
   "language": "python",
   "name": "python3"
  },
  "language_info": {
   "codemirror_mode": {
    "name": "ipython",
    "version": 3
   },
   "file_extension": ".py",
   "mimetype": "text/x-python",
   "name": "python",
   "nbconvert_exporter": "python",
   "pygments_lexer": "ipython3",
   "version": "3.10.9"
  }
 },
 "nbformat": 4,
 "nbformat_minor": 5
}
